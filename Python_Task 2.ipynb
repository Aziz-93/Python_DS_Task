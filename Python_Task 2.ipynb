{
 "cells": [
  {
   "cell_type": "markdown",
   "id": "8b530b0c",
   "metadata": {},
   "source": [
    "# Task  2  1-10"
   ]
  },
  {
   "cell_type": "markdown",
   "id": "fc86cc05",
   "metadata": {},
   "source": [
    "# Qst -1"
   ]
  },
  {
   "cell_type": "markdown",
   "id": "84fba333",
   "metadata": {},
   "source": [
    "Create a tuple my_tuple with the values 1, 2, and 3. Print the tuple."
   ]
  },
  {
   "cell_type": "code",
   "execution_count": 1,
   "id": "0743a228",
   "metadata": {},
   "outputs": [
    {
     "name": "stdout",
     "output_type": "stream",
     "text": [
      "(1, 2, 3)\n"
     ]
    }
   ],
   "source": [
    "my_tuple=(1,2,3)\n",
    "print(my_tuple)"
   ]
  },
  {
   "cell_type": "markdown",
   "id": "9dd804c9",
   "metadata": {},
   "source": [
    "# Qst - 2"
   ]
  },
  {
   "cell_type": "markdown",
   "id": "11214017",
   "metadata": {},
   "source": [
    "Create a set my_set with the values 1, 2, and 3. Print the set."
   ]
  },
  {
   "cell_type": "code",
   "execution_count": 2,
   "id": "b5012ffa",
   "metadata": {},
   "outputs": [
    {
     "name": "stdout",
     "output_type": "stream",
     "text": [
      "{1, 2, 3}\n"
     ]
    }
   ],
   "source": [
    "my_set={1,2,3}\n",
    "print(my_set)"
   ]
  },
  {
   "cell_type": "markdown",
   "id": "3187c0c1",
   "metadata": {},
   "source": [
    "# Qst - 3"
   ]
  },
  {
   "cell_type": "markdown",
   "id": "995f497c",
   "metadata": {},
   "source": [
    "Create a dictionary my_dict with keys \"apple\", \"banana\", and \"cherry\" and values 1, 2, and 3. Print thedictionary."
   ]
  },
  {
   "cell_type": "code",
   "execution_count": 14,
   "id": "645c7023",
   "metadata": {},
   "outputs": [],
   "source": [
    "my_dist={'apple':1,'banana':2,'cherry':3}"
   ]
  },
  {
   "cell_type": "code",
   "execution_count": 16,
   "id": "32a450ef",
   "metadata": {},
   "outputs": [
    {
     "name": "stdout",
     "output_type": "stream",
     "text": [
      "{'apple': 1, 'banana': 2, 'cherry': 3}\n"
     ]
    }
   ],
   "source": [
    "print(my_dist)"
   ]
  },
  {
   "cell_type": "markdown",
   "id": "34a86127",
   "metadata": {},
   "source": [
    "# Qst - 4"
   ]
  },
  {
   "cell_type": "markdown",
   "id": "3921d7f0",
   "metadata": {},
   "source": [
    "Use a for loop to print the values in my_tuple one by one"
   ]
  },
  {
   "cell_type": "code",
   "execution_count": 17,
   "id": "b2fdd75f",
   "metadata": {},
   "outputs": [],
   "source": [
    "my_tuple=[1,2,3,4,5,6,7]"
   ]
  },
  {
   "cell_type": "code",
   "execution_count": 18,
   "id": "1bb809b7",
   "metadata": {},
   "outputs": [
    {
     "name": "stdout",
     "output_type": "stream",
     "text": [
      "1\n",
      "2\n",
      "3\n",
      "4\n",
      "5\n",
      "6\n",
      "7\n"
     ]
    }
   ],
   "source": [
    "for i in my_tuple:\n",
    "    print(i)"
   ]
  },
  {
   "cell_type": "markdown",
   "id": "1968072f",
   "metadata": {},
   "source": [
    "# Qst - 5"
   ]
  },
  {
   "cell_type": "markdown",
   "id": "f3d6cdd2",
   "metadata": {},
   "source": [
    "Use a for loop to print the values in my_set one by one."
   ]
  },
  {
   "cell_type": "code",
   "execution_count": 26,
   "id": "366509b7",
   "metadata": {},
   "outputs": [],
   "source": [
    "my_set=(1,2,3,4,5,)"
   ]
  },
  {
   "cell_type": "code",
   "execution_count": 27,
   "id": "6c65f96d",
   "metadata": {},
   "outputs": [
    {
     "name": "stdout",
     "output_type": "stream",
     "text": [
      "1\n",
      "2\n",
      "3\n",
      "4\n",
      "5\n"
     ]
    }
   ],
   "source": [
    "for i in my_set:\n",
    "    print(i)"
   ]
  },
  {
   "cell_type": "markdown",
   "id": "5e41f1d0",
   "metadata": {},
   "source": [
    "# Qst - 6"
   ]
  },
  {
   "cell_type": "markdown",
   "id": "3855d330",
   "metadata": {},
   "source": [
    "Use a for loop to print the keys and values in my_dict one by one."
   ]
  },
  {
   "cell_type": "code",
   "execution_count": 28,
   "id": "328ec2ab",
   "metadata": {},
   "outputs": [
    {
     "data": {
      "text/plain": [
       "dict"
      ]
     },
     "execution_count": 28,
     "metadata": {},
     "output_type": "execute_result"
    }
   ],
   "source": [
    "my_dict={'abdul':27,'dhana':24,'pradeep':24,'magesh':29}\n",
    "type(my_dict)"
   ]
  },
  {
   "cell_type": "code",
   "execution_count": 29,
   "id": "da7131b5",
   "metadata": {},
   "outputs": [
    {
     "name": "stdout",
     "output_type": "stream",
     "text": [
      "abdul 27\n",
      "dhana 24\n",
      "pradeep 24\n",
      "magesh 29\n"
     ]
    }
   ],
   "source": [
    "for a,b in my_dict.items():\n",
    "    print(a,b)"
   ]
  },
  {
   "cell_type": "markdown",
   "id": "ff6c5818",
   "metadata": {},
   "source": [
    "# Qst - 7"
   ]
  },
  {
   "cell_type": "markdown",
   "id": "46a51bba",
   "metadata": {},
   "source": [
    "Use a while loop to print the numbers from 1 to 10."
   ]
  },
  {
   "cell_type": "code",
   "execution_count": 30,
   "id": "b2c49895",
   "metadata": {},
   "outputs": [
    {
     "name": "stdout",
     "output_type": "stream",
     "text": [
      "1\n",
      "2\n",
      "3\n",
      "4\n",
      "5\n",
      "6\n",
      "7\n",
      "8\n",
      "9\n",
      "10\n"
     ]
    }
   ],
   "source": [
    "i = 1\n",
    "while i<11:\n",
    "    print(i)\n",
    "    i=i+1"
   ]
  },
  {
   "cell_type": "markdown",
   "id": "c0c3dde8",
   "metadata": {},
   "source": [
    "# Qst - 8"
   ]
  },
  {
   "cell_type": "markdown",
   "id": "b5a71fa2",
   "metadata": {},
   "source": [
    "Use a while loop to print the even numbers from 2 to 10"
   ]
  },
  {
   "cell_type": "code",
   "execution_count": 32,
   "id": "ad3fc7e2",
   "metadata": {},
   "outputs": [
    {
     "name": "stdout",
     "output_type": "stream",
     "text": [
      "2\n",
      "4\n",
      "6\n",
      "8\n",
      "10\n"
     ]
    }
   ],
   "source": [
    "i = 2\n",
    "while i<11:\n",
    "    print(i)\n",
    "    i=i+2"
   ]
  },
  {
   "cell_type": "markdown",
   "id": "0f31d395",
   "metadata": {},
   "source": [
    "# Qst - 9"
   ]
  },
  {
   "cell_type": "markdown",
   "id": "86a5d16c",
   "metadata": {},
   "source": [
    "Use a while loop to print the squares of the numbers from 1 to 5."
   ]
  },
  {
   "cell_type": "code",
   "execution_count": 35,
   "id": "3a62517d",
   "metadata": {},
   "outputs": [
    {
     "name": "stdout",
     "output_type": "stream",
     "text": [
      "1\n",
      "4\n",
      "9\n",
      "16\n",
      "25\n"
     ]
    }
   ],
   "source": [
    "i = 1\n",
    "while i<=5:\n",
    "    print(i**2)\n",
    "    i=i+1"
   ]
  },
  {
   "cell_type": "markdown",
   "id": "ec9279c9",
   "metadata": {},
   "source": [
    "# Qst - 10"
   ]
  },
  {
   "cell_type": "markdown",
   "id": "2155b548",
   "metadata": {},
   "source": [
    "Use a for loop to print the sum of the numbers in my_tuple"
   ]
  },
  {
   "cell_type": "code",
   "execution_count": 44,
   "id": "0821d645",
   "metadata": {},
   "outputs": [
    {
     "name": "stdout",
     "output_type": "stream",
     "text": [
      "2\n",
      "3\n",
      "4\n",
      "5\n",
      "6\n"
     ]
    }
   ],
   "source": [
    "my_tuple=[1,2,3,4,5]\n",
    "sum=1\n",
    "for i in my_tuple:\n",
    "    print(i+sum)"
   ]
  },
  {
   "cell_type": "code",
   "execution_count": null,
   "id": "7c245934",
   "metadata": {},
   "outputs": [],
   "source": []
  }
 ],
 "metadata": {
  "kernelspec": {
   "display_name": "Python 3 (ipykernel)",
   "language": "python",
   "name": "python3"
  },
  "language_info": {
   "codemirror_mode": {
    "name": "ipython",
    "version": 3
   },
   "file_extension": ".py",
   "mimetype": "text/x-python",
   "name": "python",
   "nbconvert_exporter": "python",
   "pygments_lexer": "ipython3",
   "version": "3.10.8"
  }
 },
 "nbformat": 4,
 "nbformat_minor": 5
}
