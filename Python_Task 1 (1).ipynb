{
 "cells": [
  {
   "cell_type": "markdown",
   "id": "a6314e3e",
   "metadata": {},
   "source": [
    "# Task 1-10"
   ]
  },
  {
   "cell_type": "markdown",
   "id": "600da1a7",
   "metadata": {},
   "source": [
    "# Qst - 1"
   ]
  },
  {
   "cell_type": "markdown",
   "id": "f7681c80",
   "metadata": {},
   "source": [
    "Create a Variable x and Assign it the value 5. print the value of x."
   ]
  },
  {
   "cell_type": "code",
   "execution_count": 7,
   "id": "2589f17e",
   "metadata": {},
   "outputs": [],
   "source": [
    "x=5"
   ]
  },
  {
   "cell_type": "code",
   "execution_count": 8,
   "id": "ec878fc9",
   "metadata": {},
   "outputs": [
    {
     "name": "stdout",
     "output_type": "stream",
     "text": [
      "5\n"
     ]
    }
   ],
   "source": [
    "print(x)"
   ]
  },
  {
   "cell_type": "markdown",
   "id": "0d243c9c",
   "metadata": {},
   "source": [
    "# Qst - 2"
   ]
  },
  {
   "cell_type": "markdown",
   "id": "1366fc3f",
   "metadata": {},
   "source": [
    "Create two variables a and b, and assign them values 3 and 2 respectively. Add a and b together and print theresult."
   ]
  },
  {
   "cell_type": "code",
   "execution_count": 11,
   "id": "3928aee0",
   "metadata": {},
   "outputs": [],
   "source": [
    "a=3\n",
    "b=2"
   ]
  },
  {
   "cell_type": "code",
   "execution_count": 12,
   "id": "e7dfc459",
   "metadata": {},
   "outputs": [
    {
     "name": "stdout",
     "output_type": "stream",
     "text": [
      "5\n"
     ]
    }
   ],
   "source": [
    "print(a+b)"
   ]
  },
  {
   "cell_type": "markdown",
   "id": "82c78675",
   "metadata": {},
   "source": [
    "# Qst - 3"
   ]
  },
  {
   "cell_type": "markdown",
   "id": "d5edfe7f",
   "metadata": {},
   "source": [
    "Create a variable pi and assign it the value 3.14159. Print the value of pi."
   ]
  },
  {
   "cell_type": "code",
   "execution_count": 16,
   "id": "836437f3",
   "metadata": {},
   "outputs": [],
   "source": [
    "pi=3.14159"
   ]
  },
  {
   "cell_type": "code",
   "execution_count": 19,
   "id": "92b4a792",
   "metadata": {},
   "outputs": [
    {
     "name": "stdout",
     "output_type": "stream",
     "text": [
      "3.14159\n"
     ]
    }
   ],
   "source": [
    "print(pi)"
   ]
  },
  {
   "cell_type": "markdown",
   "id": "89a55ac7",
   "metadata": {},
   "source": [
    "# Qst - 4"
   ]
  },
  {
   "cell_type": "markdown",
   "id": "2384f5e5",
   "metadata": {},
   "source": [
    "Create a variable radius and assign it the value 5.\n",
    "\n",
    "Calculate the area of a circle with radius radius using theformula pi * radius ** 2 and print the result."
   ]
  },
  {
   "cell_type": "code",
   "execution_count": 21,
   "id": "ae285567",
   "metadata": {},
   "outputs": [
    {
     "name": "stdout",
     "output_type": "stream",
     "text": [
      "78.53975\n"
     ]
    }
   ],
   "source": [
    "radius=5\n",
    "print(pi*radius**2)"
   ]
  },
  {
   "cell_type": "markdown",
   "id": "cb214430",
   "metadata": {},
   "source": [
    "# Qst - 5"
   ]
  },
  {
   "cell_type": "markdown",
   "id": "33698a02",
   "metadata": {},
   "source": [
    "Create a variable name and assign it your name as a string. Print a greeting using your name, such as \"Hello,[name]!\""
   ]
  },
  {
   "cell_type": "code",
   "execution_count": 35,
   "id": "4251e072",
   "metadata": {},
   "outputs": [],
   "source": [
    "N=['abdul Aziz']"
   ]
  },
  {
   "cell_type": "code",
   "execution_count": 36,
   "id": "9c4f0a06",
   "metadata": {},
   "outputs": [
    {
     "name": "stdout",
     "output_type": "stream",
     "text": [
      "hello ['abdul Aziz']\n"
     ]
    }
   ],
   "source": [
    "print(f'hello {N}')"
   ]
  },
  {
   "cell_type": "markdown",
   "id": "20b28cf7",
   "metadata": {},
   "source": [
    "# Qst - 6"
   ]
  },
  {
   "cell_type": "markdown",
   "id": "41350c9f",
   "metadata": {},
   "source": [
    "Create a variable age and assign it your age as an integer. Print a sentence that includes your age, such as \"I am[age] years old.\""
   ]
  },
  {
   "cell_type": "code",
   "execution_count": 39,
   "id": "501b4d8f",
   "metadata": {},
   "outputs": [
    {
     "name": "stdout",
     "output_type": "stream",
     "text": [
      "i am Abdul Aziz 26 years old\n"
     ]
    }
   ],
   "source": [
    "Age=26\n",
    "print(\"i am Abdul Aziz\",Age,\"years old\")"
   ]
  },
  {
   "cell_type": "markdown",
   "id": "ef58919b",
   "metadata": {},
   "source": [
    "# Qst - 7"
   ]
  },
  {
   "cell_type": "markdown",
   "id": "4937c2e1",
   "metadata": {},
   "source": [
    "Create a variable height and assign it your height in meters as a float. Print a sentence that includes yourheight, such as \"I am [height] meters tall.\""
   ]
  },
  {
   "cell_type": "code",
   "execution_count": 2,
   "id": "011bc261",
   "metadata": {},
   "outputs": [
    {
     "name": "stdout",
     "output_type": "stream",
     "text": [
      "i am  5.63 meter tall\n"
     ]
    }
   ],
   "source": [
    "hight=5.630\n",
    "print(\"i am \",hight,\"meter tall\")"
   ]
  },
  {
   "cell_type": "markdown",
   "id": "a92c5fbc",
   "metadata": {},
   "source": [
    "# Qst - 8"
   ]
  },
  {
   "cell_type": "markdown",
   "id": "a57c115a",
   "metadata": {},
   "source": [
    "Create a variable sentence and assign it a sentence as a string. Print the first letter of the sentence."
   ]
  },
  {
   "cell_type": "code",
   "execution_count": 5,
   "id": "e52d52e5",
   "metadata": {},
   "outputs": [
    {
     "name": "stdout",
     "output_type": "stream",
     "text": [
      "i\n"
     ]
    }
   ],
   "source": [
    "a='i am abdul'\n",
    "print(a[0])"
   ]
  },
  {
   "cell_type": "markdown",
   "id": "77857743",
   "metadata": {},
   "source": [
    "# Qst - 9"
   ]
  },
  {
   "cell_type": "markdown",
   "id": "45814607",
   "metadata": {},
   "source": [
    "Create a variable sentence and assign it a sentence as a string. Print the last letter of the sentence."
   ]
  },
  {
   "cell_type": "code",
   "execution_count": 11,
   "id": "52139c64",
   "metadata": {},
   "outputs": [
    {
     "name": "stdout",
     "output_type": "stream",
     "text": [
      "l\n"
     ]
    }
   ],
   "source": [
    "a='i am abdul'\n",
    "print(a[9])"
   ]
  },
  {
   "cell_type": "markdown",
   "id": "d609338a",
   "metadata": {},
   "source": [
    "# Qst - 10"
   ]
  },
  {
   "cell_type": "markdown",
   "id": "8ab83f2b",
   "metadata": {},
   "source": [
    "Create a variable sentence and assign it a sentence as a string. Print the length of the sentence."
   ]
  },
  {
   "cell_type": "code",
   "execution_count": 13,
   "id": "eaea5409",
   "metadata": {},
   "outputs": [
    {
     "name": "stdout",
     "output_type": "stream",
     "text": [
      "10\n"
     ]
    }
   ],
   "source": [
    "a='i am happy'\n",
    "print(len(a))"
   ]
  },
  {
   "cell_type": "code",
   "execution_count": null,
   "id": "a930afac",
   "metadata": {},
   "outputs": [],
   "source": []
  }
 ],
 "metadata": {
  "kernelspec": {
   "display_name": "Python 3 (ipykernel)",
   "language": "python",
   "name": "python3"
  },
  "language_info": {
   "codemirror_mode": {
    "name": "ipython",
    "version": 3
   },
   "file_extension": ".py",
   "mimetype": "text/x-python",
   "name": "python",
   "nbconvert_exporter": "python",
   "pygments_lexer": "ipython3",
   "version": "3.10.8"
  }
 },
 "nbformat": 4,
 "nbformat_minor": 5
}
